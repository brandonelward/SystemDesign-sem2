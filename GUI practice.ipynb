{
 "cells": [
  {
   "cell_type": "code",
   "execution_count": null,
   "id": "7b496ab9",
   "metadata": {},
   "outputs": [],
   "source": [
    "import tkinter\n",
    "m = tkinter.Tk()\n",
    "\n",
    "m.mainloop()"
   ]
  },
  {
   "cell_type": "code",
   "execution_count": null,
   "id": "dd4da5b8",
   "metadata": {},
   "outputs": [],
   "source": [
    "#Button counter widget\n",
    "r = tk.Tk()\n",
    "r.title('Counting Seconds')\n",
    "button = tk.Button(r, text='Stop', width=25, command=r.destroy)\n",
    "button.pack()\n",
    "r.mainloop()"
   ]
  },
  {
   "cell_type": "code",
   "execution_count": null,
   "id": "bab25ec3",
   "metadata": {},
   "outputs": [],
   "source": [
    "#Canvas \n",
    "from tkinter import *\n",
    "master = Tk()\n",
    "w = Canva(master, width=40, height=60)\n",
    "w.pack()\n",
    "canvas_height=20\n",
    "canvas_width=200\n",
    "y = int(canvas_height/2)\n",
    "w.create_line(0, y, canvas_width, y)\n",
    "mainloop()"
   ]
  },
  {
   "cell_type": "code",
   "execution_count": null,
   "id": "f2f47bd0",
   "metadata": {},
   "outputs": [],
   "source": [
    "#CheckButton\n",
    "from tkinter import *\n",
    "master = Tk()\n",
    "var1 = IntVar()\n",
    "Checkbutton(master, text='male', variable=Var1).grid(row=0, sticky=W)\n",
    "var2=IntVar()\n",
    "Checkbutton(master, text='female', variable = var2).grid(row=1, sticky=W)\n",
    "mainloop()"
   ]
  },
  {
   "cell_type": "code",
   "execution_count": null,
   "id": "d627f26d",
   "metadata": {},
   "outputs": [],
   "source": [
    "#Entry\n",
    "from tkinter import *\n",
    "master = Tk()\n",
    "Label(master, text='First Name').grid(row=0)\n",
    "Label(master, text='Last Name').grid(row=1)\n",
    "e1 = Entry(master)\n",
    "e2 = Entry(master)\n",
    "e1.grid(row=0, column=1)\n",
    "e2.grid(row=1, column=1)\n",
    "mainloop()"
   ]
  },
  {
   "cell_type": "code",
   "execution_count": null,
   "id": "b9a11116",
   "metadata": {},
   "outputs": [],
   "source": [
    "#Frame\n",
    "from tkinter import *\n",
    "\n",
    "root = Tk()\n",
    "frame=Frame(root)\n",
    "frame.pack()\n",
    "bottomframe = Frame(root)\n",
    "bottomframe.pack(side = BOTTOM)\n",
    "redbutton = Button(frame, text='Red', fg= 'red')\n",
    "redbutton.pack(side = LEFT)\n",
    "greenbutton = Button(frame, text='Blue', fg = 'blue')\n",
    "greenbutton.pack(side = LEFT)\n",
    "bluebutton = Button(frame, text='Blue', fg = 'blue')\n",
    "bluebutton.pack(side = LEFT)\n",
    "blackbutton = Button(frame, text='Black', fg = 'black')\n",
    "blackbutton.pack(side = BOTTOM)"
   ]
  },
  {
   "cell_type": "code",
   "execution_count": null,
   "id": "5514a229",
   "metadata": {},
   "outputs": [],
   "source": [
    "#Label\n",
    "from tkinter import *\n",
    "\n",
    "root = Tk()\n",
    "w = Label(root, text='GeeksForGeeks.org!')\n",
    "w.pack\n",
    "root.mainloop()"
   ]
  },
  {
   "cell_type": "code",
   "execution_count": null,
   "id": "1e25b036",
   "metadata": {},
   "outputs": [],
   "source": [
    "#ListBox\n",
    "from tkinter import *\n",
    "\n",
    "top = Tk()\n",
    "Lb = Listbox(top)\n",
    "Lb.insert(1, 'Python')\n",
    "Lb.insert(2, 'Java')\n",
    "Lb.insert(3, 'C++')\n",
    "Lb.insert(4, 'Any other')\n",
    "top.mainloop()"
   ]
  },
  {
   "cell_type": "code",
   "execution_count": null,
   "id": "aa173d66",
   "metadata": {},
   "outputs": [],
   "source": [
    "#MenuButton\n",
    "from tkinter import *\n",
    "\n",
    "root = Tk()"
   ]
  }
 ],
 "metadata": {
  "kernelspec": {
   "display_name": "Python 3 (ipykernel)",
   "language": "python",
   "name": "python3"
  },
  "language_info": {
   "codemirror_mode": {
    "name": "ipython",
    "version": 3
   },
   "file_extension": ".py",
   "mimetype": "text/x-python",
   "name": "python",
   "nbconvert_exporter": "python",
   "pygments_lexer": "ipython3",
   "version": "3.9.12"
  }
 },
 "nbformat": 4,
 "nbformat_minor": 5
}
